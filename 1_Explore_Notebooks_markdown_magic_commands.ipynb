{
 "cells": [
  {
   "cell_type": "markdown",
   "metadata": {
    "application/vnd.databricks.v1+cell": {
     "cellMetadata": {},
     "inputWidgets": {},
     "nuid": "2c477351-9470-4b26-8f73-6f967c37729e",
     "showTitle": false,
     "title": ""
    }
   },
   "source": [
    "###Welcome to Inceptez Technologies \n",
    "Let us understand about creating notebooks, markdowns and magical commands\n",
    "\n",
    "![Profile Pic](http://inceptez.com/wp-content/uploads/2015/11/new_logo.png)"
   ]
  },
  {
   "cell_type": "markdown",
   "metadata": {
    "application/vnd.databricks.v1+cell": {
     "cellMetadata": {},
     "inputWidgets": {},
     "nuid": "3ae38262-0e89-4a3b-9130-322375328fe4",
     "showTitle": false,
     "title": ""
    }
   },
   "source": [
    "###Let us learn first about Magical Commands\n",
    "- %run: runs a Python file or a notebook.\n",
    "- %sh: executes shell commands on the cluster nodes.\n",
    "- %fs: allows you to interact with the Databricks file system.\n",
    "- %sql: allows you to run SQL queries.\n",
    "- %scala: switches the notebook context to Scala.\n",
    "- %python: switches the notebook context to Python.\n",
    "- %md: allows you to write markdown text.\n",
    "- %r: switches the notebook context to R.\n",
    "- %lsmagic: lists all the available magic commands.\n",
    "- %jobs: lists all the running jobs.\n",
    "- %config: allows you to set configuration options for the notebook.\n",
    "- %reload: reloads the contents of a module.\n",
    "- %pip: allows you to install Python packages.\n",
    "- %load: loads the contents of a file into a cell.\n",
    "- %who: lists all the variables in the current scope."
   ]
  },
  {
   "cell_type": "markdown",
   "metadata": {
    "application/vnd.databricks.v1+cell": {
     "cellMetadata": {},
     "inputWidgets": {},
     "nuid": "a69f9acf-d109-432a-a8d0-a0fd485f4141",
     "showTitle": false,
     "title": ""
    }
   },
   "source": [
    "### Main Heading - prefix with \"max 3#\""
   ]
  },
  {
   "cell_type": "markdown",
   "metadata": {
    "application/vnd.databricks.v1+cell": {
     "cellMetadata": {},
     "inputWidgets": {},
     "nuid": "8921af91-6d6d-43b1-9739-8fc5f82e3376",
     "showTitle": false,
     "title": ""
    }
   },
   "source": [
    "#### Sub Heading1 - prefix with \"max 4#\""
   ]
  },
  {
   "cell_type": "markdown",
   "metadata": {
    "application/vnd.databricks.v1+cell": {
     "cellMetadata": {},
     "inputWidgets": {},
     "nuid": "bb8d3b01-150a-4bee-a0c7-171fb3c140ac",
     "showTitle": false,
     "title": ""
    }
   },
   "source": [
    "##### Sub Heading2 - prefix with \"max 5#\""
   ]
  },
  {
   "cell_type": "markdown",
   "metadata": {
    "application/vnd.databricks.v1+cell": {
     "cellMetadata": {},
     "inputWidgets": {},
     "nuid": "2e9dc5d9-1d13-4124-969b-f45d9b89dc83",
     "showTitle": false,
     "title": ""
    }
   },
   "source": [
    "###### Sub Heading3 - prefix with \"max 6#\""
   ]
  },
  {
   "cell_type": "markdown",
   "metadata": {
    "application/vnd.databricks.v1+cell": {
     "cellMetadata": {},
     "inputWidgets": {},
     "nuid": "abae53c9-abc4-4100-8692-416d46800d06",
     "showTitle": false,
     "title": ""
    }
   },
   "source": [
    "######Lets learn about bold\n",
    "1. <b> Bold </b> - using html tagging <b></b>\n",
    "2. **Bold** - prefixed and suffixed with **"
   ]
  },
  {
   "cell_type": "markdown",
   "metadata": {
    "application/vnd.databricks.v1+cell": {
     "cellMetadata": {},
     "inputWidgets": {},
     "nuid": "136fbc25-25c3-4724-b8d7-aa22cd60ea99",
     "showTitle": false,
     "title": ""
    }
   },
   "source": [
    "###### Lets learn about Italics\n",
    "*Italics* - prefixed and suffixed with *"
   ]
  },
  {
   "cell_type": "markdown",
   "metadata": {
    "application/vnd.databricks.v1+cell": {
     "cellMetadata": {},
     "inputWidgets": {},
     "nuid": "8d268d1f-6516-4c78-b130-b64c7da7dc73",
     "showTitle": false,
     "title": ""
    }
   },
   "source": [
    "###### Lets learn about bullet points\n",
    "\n",
    "- bullet points - prefix with -\n",
    "- bullet points - prefix with -"
   ]
  },
  {
   "cell_type": "markdown",
   "metadata": {
    "application/vnd.databricks.v1+cell": {
     "cellMetadata": {},
     "inputWidgets": {},
     "nuid": "ea7a9677-53bd-4551-b1e8-9f89e15a0c03",
     "showTitle": false,
     "title": ""
    }
   },
   "source": [
    "###### Lets learn about Color codes\n",
    "\n",
    "$${\\color{red}Red}$$\n",
    "$${\\color{green}Green}$$\n",
    "$${\\color{blue}Blue}$$\t"
   ]
  },
  {
   "cell_type": "markdown",
   "metadata": {
    "application/vnd.databricks.v1+cell": {
     "cellMetadata": {},
     "inputWidgets": {},
     "nuid": "360b2b5f-3830-49d7-826a-edecb5581ba1",
     "showTitle": false,
     "title": ""
    }
   },
   "source": [
    "###### Lets learn about Embedding urls\n",
    "Click here for [Inceptez Logo](http://inceptez.com/wp-content/uploads/2015/11/new_logo.png)"
   ]
  }
 ],
 "metadata": {
  "application/vnd.databricks.v1+notebook": {
   "dashboards": [],
   "language": "python",
   "notebookMetadata": {
    "pythonIndentUnit": 4
   },
   "notebookName": "1_Explore_Notebooks_markdown_magic_commands",
   "widgets": {}
  }
 },
 "nbformat": 4,
 "nbformat_minor": 0
}
